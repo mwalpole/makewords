{
 "cells": [
  {
   "cell_type": "code",
   "execution_count": 62,
   "metadata": {},
   "outputs": [],
   "source": [
    "import requests\n",
    "import string\n",
    "\n",
    "from bs4 import BeautifulSoup\n",
    "\n",
    "session = requests.session()\n",
    "words = []\n",
    "for letter in string.ascii_lowercase:\n",
    "    response = session.get(f\"https://www.teanglann.ie/en/fgb/_{letter}\")\n",
    "    soup = BeautifulSoup(response.content)\n",
    "    words += [str(a.string) for a in soup.findAll('a') if a.get(\"href\").startswith(\"/en/fgb\")]"
   ]
  },
  {
   "cell_type": "code",
   "execution_count": 60,
   "metadata": {},
   "outputs": [
    {
     "data": {
      "text/plain": [
       "{'aigne',\n",
       " 'ainfe',\n",
       " 'airne',\n",
       " 'aneas',\n",
       " 'anseo',\n",
       " 'aoine',\n",
       " 'beann',\n",
       " 'eagna',\n",
       " 'eagnú',\n",
       " 'eagán',\n",
       " 'eangú',\n",
       " 'easna',\n",
       " 'eorna',\n",
       " 'feann',\n",
       " 'fearn',\n",
       " 'geana',\n",
       " 'geang',\n",
       " 'geann',\n",
       " 'grean',\n",
       " 'meana',\n",
       " 'meang',\n",
       " 'meann',\n",
       " 'neana',\n",
       " 'neas-',\n",
       " 'neasa',\n",
       " 'neasú',\n",
       " 'reang',\n",
       " 'reann',\n",
       " 'saine',\n",
       " 'sean-',\n",
       " 'seang',\n",
       " 'seans',\n",
       " 'searn',\n",
       " 'sneag',\n",
       " 'uaine',\n",
       " 'veain'}"
      ]
     },
     "execution_count": 60,
     "metadata": {},
     "output_type": "execute_result"
    }
   ],
   "source": [
    "import makewords.makewords as make\n",
    "\n",
    "make.possible_words(words, include='ean', exclude='tchdpl')"
   ]
  }
 ],
 "metadata": {
  "interpreter": {
   "hash": "1957f69bab5f301a17edef457dc69aa4d6373426983193128c43faee84190924"
  },
  "kernelspec": {
   "display_name": "Python 3.9.10 ('venv': venv)",
   "language": "python",
   "name": "python3"
  },
  "language_info": {
   "codemirror_mode": {
    "name": "ipython",
    "version": 3
   },
   "file_extension": ".py",
   "mimetype": "text/x-python",
   "name": "python",
   "nbconvert_exporter": "python",
   "pygments_lexer": "ipython3",
   "version": "3.9.10"
  },
  "orig_nbformat": 4
 },
 "nbformat": 4,
 "nbformat_minor": 2
}
