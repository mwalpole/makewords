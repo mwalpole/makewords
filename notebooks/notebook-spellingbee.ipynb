{
 "cells": [
  {
   "cell_type": "code",
   "execution_count": 3,
   "metadata": {},
   "outputs": [
    {
     "name": "stdout",
     "output_type": "stream",
     "text": [
      "The autoreload extension is already loaded. To reload it, use:\n",
      "  %reload_ext autoreload\n"
     ]
    }
   ],
   "source": [
    "# Load the autoreload extension\n",
    "%load_ext autoreload\n",
    "\n",
    "# Autoreload reloads modules before executing code\n",
    "# 0: disable\n",
    "# 1: reload modules imported with %aimport\n",
    "# 2: reload all modules, except those excluded by %aimport\n",
    "%autoreload 2"
   ]
  },
  {
   "cell_type": "code",
   "execution_count": 42,
   "metadata": {},
   "outputs": [],
   "source": [
    "import nltk.corpus\n",
    "\n",
    "from makewords.conf import NLTK_DIR\n",
    "\n",
    "nltk.data.path.append(NLTK_DIR)\n",
    "\n",
    "words = nltk.corpus.words.words()"
   ]
  },
  {
   "cell_type": "code",
   "execution_count": 59,
   "metadata": {},
   "outputs": [
    {
     "name": "stdout",
     "output_type": "stream",
     "text": [
      "236,736 total words.\n",
      "235,892 unique words.\n",
      "210,693 ascii-only lowercase words, e.g. we exclude Jean-Pierre.\n"
     ]
    }
   ],
   "source": [
    "import itertools\n",
    "import string\n",
    "\n",
    "n_total = len(words)\n",
    "n_unique = len(set(words))\n",
    "n_ascii_lowercase = len(list(filter(lambda x: not set(x).difference(string.ascii_lowercase), set(words))))\n",
    "\n",
    "for word in set(words):\n",
    "    if set(word.lower()).difference(string.ascii_lowercase):\n",
    "        example = word\n",
    "        break\n",
    "\n",
    "print(\"{:,} total words.\".format(n_total))\n",
    "print(\"{:,} unique words.\".format(n_unique))\n",
    "print(\"{:,} ascii-only lowercase words, e.g. we exclude {}.\".format(n_ascii_lowercase, example))\n"
   ]
  },
  {
   "cell_type": "code",
   "execution_count": null,
   "metadata": {},
   "outputs": [
    {
     "name": "stdout",
     "output_type": "stream",
     "text": [
      "[makewords] Using en wordlist sourced from nltk.\n"
     ]
    },
    {
     "name": "stderr",
     "output_type": "stream",
     "text": [
      "[nltk_data] Downloading package words to\n",
      "[nltk_data]     /home/mw/project/makewords/src/makewords/nltk_data...\n",
      "[nltk_data]   Package words is already up-to-date!\n"
     ]
    },
    {
     "name": "stdout",
     "output_type": "stream",
     "text": [
      "allot\n",
      "alto\n",
      "atlatl\n",
      "atoll\n",
      "atta\n",
      "lata\n",
      "loot\n",
      "lota\n",
      "lotto\n",
      "otto\n",
      "tala\n",
      "talao\n",
      "tall\n",
      "tatta\n",
      "tattoo\n",
      "toat\n",
      "toatoa\n",
      "toll\n",
      "tolt\n",
      "tool\n",
      "toot\n",
      "total\n",
      "toto\n",
      "tall\n"
     ]
    }
   ],
   "source": [
    "import makewords\n",
    "makewords.possible_words('talo')"
   ]
  }
 ],
 "metadata": {
  "interpreter": {
   "hash": "1a4825f53c0f20f3c7ada5d16c222e8fb962d32717f311f347942aded7ac632c"
  },
  "kernelspec": {
   "display_name": "Python 3.8.10 64-bit ('venv': venv)",
   "language": "python",
   "name": "python3"
  },
  "language_info": {
   "codemirror_mode": {
    "name": "ipython",
    "version": 3
   },
   "file_extension": ".py",
   "mimetype": "text/x-python",
   "name": "python",
   "nbconvert_exporter": "python",
   "pygments_lexer": "ipython3",
   "version": "3.8.10"
  },
  "orig_nbformat": 4
 },
 "nbformat": 4,
 "nbformat_minor": 2
}
