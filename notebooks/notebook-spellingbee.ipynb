{
 "cells": [
  {
   "cell_type": "code",
   "execution_count": 2,
   "metadata": {},
   "outputs": [
    {
     "name": "stdout",
     "output_type": "stream",
     "text": [
      "The autoreload extension is already loaded. To reload it, use:\n",
      "  %reload_ext autoreload\n"
     ]
    }
   ],
   "source": [
    "# Load the autoreload extension\n",
    "%load_ext autoreload\n",
    "\n",
    "# Autoreload reloads modules before executing code\n",
    "# 0: disable\n",
    "# 1: reload modules imported with %aimport\n",
    "# 2: reload all modules, except those excluded by %aimport\n",
    "%autoreload 2"
   ]
  },
  {
   "cell_type": "code",
   "execution_count": 5,
   "metadata": {},
   "outputs": [
    {
     "name": "stdout",
     "output_type": "stream",
     "text": [
      "Brown has 1,161,192 words\n",
      "Gutenberg has 2,621,613 words\n",
      "Wordnet has 236,736 words\n",
      "Total unique words: 291,530\n"
     ]
    }
   ],
   "source": [
    "import nltk.corpus\n",
    "\n",
    "nltk.data.path.append(\"../data/raw/nltk_data\")\n",
    "\n",
    "corpora = {\n",
    "    \"Brown\": nltk.corpus.brown,\n",
    "    \"Gutenberg\": nltk.corpus.gutenberg,\n",
    "    \"Wordnet\": nltk.corpus.words\n",
    "}\n",
    "\n",
    "all_words = []\n",
    "for name, corpus in corpora.items():\n",
    "    words = corpus.words()\n",
    "    print(f\"{name} has {len(words):,} words\")\n",
    "    all_words += words\n",
    "    del words\n",
    "\n",
    "words = set(all_words)\n",
    "print(f\"Total unique words: {len(words):,}\")"
   ]
  },
  {
   "cell_type": "code",
   "execution_count": 4,
   "metadata": {},
   "outputs": [
    {
     "data": {
      "text/plain": [
       "{'aalii',\n",
       " 'abbatial',\n",
       " 'abbatical',\n",
       " 'abilla',\n",
       " 'acatallactic',\n",
       " 'aillt',\n",
       " 'akala',\n",
       " 'alack',\n",
       " 'alala',\n",
       " 'alba',\n",
       " 'albata',\n",
       " 'albitic',\n",
       " 'alia',\n",
       " 'alibi',\n",
       " 'alit',\n",
       " 'alkali',\n",
       " 'alkalic',\n",
       " 'altilik',\n",
       " 'atabal',\n",
       " 'atilt',\n",
       " 'atlatl',\n",
       " 'baal',\n",
       " 'bacilli',\n",
       " 'bail',\n",
       " 'bakal',\n",
       " 'bakli',\n",
       " 'balai',\n",
       " 'balalaika',\n",
       " 'balata',\n",
       " 'bali',\n",
       " 'balita',\n",
       " 'balk',\n",
       " 'ball',\n",
       " 'balla',\n",
       " 'ballata',\n",
       " 'balli',\n",
       " 'batatilla',\n",
       " 'battalia',\n",
       " 'biblical',\n",
       " 'bilabial',\n",
       " 'bilic',\n",
       " 'bilk',\n",
       " 'bill',\n",
       " 'billa',\n",
       " 'billback',\n",
       " 'blab',\n",
       " 'blabb',\n",
       " 'black',\n",
       " 'blackback',\n",
       " 'blackball',\n",
       " 'blackit',\n",
       " 'blacktail',\n",
       " 'blat',\n",
       " 'blatta',\n",
       " 'blatti',\n",
       " 'blick',\n",
       " 'cabal',\n",
       " 'cabala',\n",
       " 'cabalic',\n",
       " 'calaba',\n",
       " 'calcic',\n",
       " 'calcitic',\n",
       " 'calk',\n",
       " 'call',\n",
       " 'calli',\n",
       " 'catallactic',\n",
       " 'catcall',\n",
       " 'cattail',\n",
       " 'cibil',\n",
       " 'cicala',\n",
       " 'cilia',\n",
       " 'clack',\n",
       " 'clat',\n",
       " 'cliack',\n",
       " 'click',\n",
       " 'clit',\n",
       " 'clitia',\n",
       " 'ilia',\n",
       " 'iliac',\n",
       " 'ilial',\n",
       " 'ilicic',\n",
       " 'ilka',\n",
       " 'illicit',\n",
       " 'kail',\n",
       " 'kala',\n",
       " 'kali',\n",
       " 'kill',\n",
       " 'killick',\n",
       " 'kilt',\n",
       " 'labba',\n",
       " 'labia',\n",
       " 'labial',\n",
       " 'lablab',\n",
       " 'lacca',\n",
       " 'laccaic',\n",
       " 'lack',\n",
       " 'lactic',\n",
       " 'laic',\n",
       " 'laical',\n",
       " 'lall',\n",
       " 'lata',\n",
       " 'latitat',\n",
       " 'licca',\n",
       " 'licit',\n",
       " 'lick',\n",
       " 'lilac',\n",
       " 'lill',\n",
       " 'lilt',\n",
       " 'tabla',\n",
       " 'tactical',\n",
       " 'tail',\n",
       " 'tala',\n",
       " 'talak',\n",
       " 'talc',\n",
       " 'tali',\n",
       " 'talk',\n",
       " 'tall',\n",
       " 'tallit',\n",
       " 'tibial',\n",
       " 'tical',\n",
       " 'tilaka',\n",
       " 'till',\n",
       " 'tilt'}"
      ]
     },
     "execution_count": 4,
     "metadata": {},
     "output_type": "execute_result"
    }
   ],
   "source": [
    "import makewords\n",
    "\n",
    "makewords.possible_words(words, include=\"labcikt\", only=True, require=\"l\", length=4, at_least=True)"
   ]
  }
 ],
 "metadata": {
  "interpreter": {
   "hash": "1a4825f53c0f20f3c7ada5d16c222e8fb962d32717f311f347942aded7ac632c"
  },
  "kernelspec": {
   "display_name": "Python 3.8.10 64-bit ('venv': venv)",
   "language": "python",
   "name": "python3"
  },
  "language_info": {
   "codemirror_mode": {
    "name": "ipython",
    "version": 3
   },
   "file_extension": ".py",
   "mimetype": "text/x-python",
   "name": "python",
   "nbconvert_exporter": "python",
   "pygments_lexer": "ipython3",
   "version": "3.9.10"
  },
  "orig_nbformat": 4
 },
 "nbformat": 4,
 "nbformat_minor": 2
}
