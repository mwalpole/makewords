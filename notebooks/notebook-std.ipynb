{
 "cells": [
  {
   "cell_type": "code",
   "execution_count": 1,
   "metadata": {},
   "outputs": [],
   "source": [
    "# Load the autoreload extension\n",
    "%load_ext autoreload\n",
    "\n",
    "# Autoreload reloads modules before executing code\n",
    "# 0: disable\n",
    "# 1: reload modules imported with %aimport\n",
    "# 2: reload all modules, except those excluded by %aimport\n",
    "%autoreload 2"
   ]
  },
  {
   "cell_type": "code",
   "execution_count": 2,
   "metadata": {},
   "outputs": [
    {
     "name": "stdout",
     "output_type": "stream",
     "text": [
      "[makewords] Using en wordlist sourced from nltk.\n"
     ]
    },
    {
     "name": "stderr",
     "output_type": "stream",
     "text": [
      "[nltk_data] Downloading package words to\n",
      "[nltk_data]     /home/mw/project/makewords/src/makewords/nltk_data...\n",
      "[nltk_data]   Package words is already up-to-date!\n"
     ]
    },
    {
     "name": "stdout",
     "output_type": "stream",
     "text": [
      "allot\n",
      "alto\n",
      "atlatl\n",
      "atoll\n",
      "atta\n",
      "lata\n",
      "loot\n",
      "lota\n",
      "lotto\n",
      "otto\n",
      "tala\n",
      "talao\n",
      "tall\n",
      "tatta\n",
      "tattoo\n",
      "toat\n",
      "toatoa\n",
      "toll\n",
      "tolt\n",
      "tool\n",
      "toot\n",
      "total\n",
      "toto\n",
      "tall\n"
     ]
    }
   ],
   "source": [
    "import makewords\n",
    "makewords.possibleWords('talo')"
   ]
  }
 ],
 "metadata": {
  "interpreter": {
   "hash": "1a4825f53c0f20f3c7ada5d16c222e8fb962d32717f311f347942aded7ac632c"
  },
  "kernelspec": {
   "display_name": "Python 3.8.10 64-bit ('venv': venv)",
   "language": "python",
   "name": "python3"
  },
  "language_info": {
   "codemirror_mode": {
    "name": "ipython",
    "version": 3
   },
   "file_extension": ".py",
   "mimetype": "text/x-python",
   "name": "python",
   "nbconvert_exporter": "python",
   "pygments_lexer": "ipython3",
   "version": "3.8.10"
  },
  "orig_nbformat": 4
 },
 "nbformat": 4,
 "nbformat_minor": 2
}
