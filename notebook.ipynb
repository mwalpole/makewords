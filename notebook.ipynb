{
 "cells": [
  {
   "cell_type": "code",
   "execution_count": 15,
   "metadata": {},
   "outputs": [
    {
     "name": "stderr",
     "output_type": "stream",
     "text": [
      "[nltk_data] Downloading package words to /home/mw/nltk_data...\n",
      "[nltk_data]   Package words is already up-to-date!\n"
     ]
    },
    {
     "data": {
      "text/plain": [
       "True"
      ]
     },
     "execution_count": 15,
     "metadata": {},
     "output_type": "execute_result"
    }
   ],
   "source": [
    "from itertools import permutations\n",
    "\n",
    "import nltk\n",
    "from nltk.corpus import words as nltklib \n",
    "nltk.download('words')\n"
   ]
  },
  {
   "cell_type": "code",
   "execution_count": 17,
   "metadata": {},
   "outputs": [
    {
     "name": "stdout",
     "output_type": "stream",
     "text": [
      "adat\n",
      "aflat\n",
      "afloat\n",
      "afoot\n",
      "aftosa\n",
      "allot\n",
      "aloft\n",
      "alto\n",
      "asta\n",
      "atlas\n",
      "atlatl\n",
      "atoll\n",
      "atta\n",
      "daft\n",
      "dalt\n",
      "data\n",
      "doat\n",
      "dolt\n",
      "dotal\n",
      "faldstool\n",
      "fast\n",
      "fatal\n",
      "flat\n",
      "flatfoot\n",
      "float\n",
      "flot\n",
      "flota\n",
      "foalfoot\n",
      "foot\n",
      "footfall\n",
      "foots\n",
      "footstall\n",
      "footstool\n",
      "last\n",
      "lata\n",
      "loft\n",
      "loot\n",
      "lost\n",
      "lota\n",
      "lots\n",
      "lotto\n",
      "oast\n",
      "otto\n",
      "saft\n",
      "salat\n",
      "salt\n",
      "salta\n",
      "saltfat\n",
      "saltfoot\n",
      "sfoot\n",
      "slat\n",
      "slot\n",
      "soft\n",
      "softa\n",
      "soot\n",
      "sotol\n",
      "sots\n",
      "stadda\n",
      "staff\n",
      "stall\n",
      "statal\n",
      "stoa\n",
      "stoat\n",
      "stod\n",
      "stof\n",
      "stoff\n",
      "stola\n",
      "stood\n",
      "stoof\n",
      "stool\n",
      "stoot\n",
      "stoss\n",
      "stot\n",
      "taft\n",
      "tala\n",
      "talao\n",
      "tald\n",
      "tall\n",
      "tass\n",
      "tassal\n",
      "tassoo\n",
      "tatta\n",
      "tattoo\n",
      "toad\n",
      "toadstool\n",
      "toast\n",
      "toat\n",
      "toatoa\n",
      "toff\n",
      "toft\n",
      "told\n",
      "toldo\n",
      "toll\n",
      "tolt\n",
      "tool\n",
      "toot\n",
      "toss\n",
      "tost\n",
      "total\n",
      "toto\n",
      "flat\n",
      "foot\n",
      "last\n",
      "salt\n",
      "soft\n",
      "tall\n"
     ]
    }
   ],
   "source": [
    "allWords = nltklib.words()\n",
    "\n",
    "# test loading possibleWords from module\n",
    "from src.makewords.run import possibleWords\n",
    "possibleWords(allWords, 'tolafds')"
   ]
  }
 ],
 "metadata": {
  "interpreter": {
   "hash": "1a4825f53c0f20f3c7ada5d16c222e8fb962d32717f311f347942aded7ac632c"
  },
  "kernelspec": {
   "display_name": "Python 3.8.10 64-bit ('venv': venv)",
   "language": "python",
   "name": "python3"
  },
  "language_info": {
   "codemirror_mode": {
    "name": "ipython",
    "version": 3
   },
   "file_extension": ".py",
   "mimetype": "text/x-python",
   "name": "python",
   "nbconvert_exporter": "python",
   "pygments_lexer": "ipython3",
   "version": "3.8.10"
  },
  "orig_nbformat": 4
 },
 "nbformat": 4,
 "nbformat_minor": 2
}
